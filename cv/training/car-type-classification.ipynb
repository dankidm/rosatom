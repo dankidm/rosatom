{
 "cells": [
  {
   "cell_type": "code",
   "execution_count": null,
   "metadata": {
    "execution": {
     "iopub.execute_input": "2024-12-01T03:52:31.860054Z",
     "iopub.status.busy": "2024-12-01T03:52:31.859436Z",
     "iopub.status.idle": "2024-12-01T03:52:38.156557Z",
     "shell.execute_reply": "2024-12-01T03:52:38.155601Z",
     "shell.execute_reply.started": "2024-12-01T03:52:31.860022Z"
    },
    "trusted": true
   },
   "outputs": [],
   "source": [
    "import numpy as np \n",
    "import pandas as pd \n",
    "import os\n",
    "\n",
    "import torch\n",
    "from torch import nn, optim\n",
    "from torchvision import datasets, transforms, models\n",
    "from torch.utils.data import DataLoader\n",
    "\n",
    "data_path = \"/kaggle/input/cars-body-type-cropped/Cars_Body_Type\"\n",
    "batch_size = 32\n",
    "num_epochs = 100\n",
    "learning_rate = 0.05\n",
    "device = torch.device(\"cuda\" if torch.cuda.is_available() else \"cpu\")"
   ]
  },
  {
   "cell_type": "code",
   "execution_count": null,
   "metadata": {
    "execution": {
     "iopub.execute_input": "2024-12-01T03:52:38.166401Z",
     "iopub.status.busy": "2024-12-01T03:52:38.166143Z",
     "iopub.status.idle": "2024-12-01T03:52:38.172183Z",
     "shell.execute_reply": "2024-12-01T03:52:38.171281Z",
     "shell.execute_reply.started": "2024-12-01T03:52:38.166376Z"
    },
    "trusted": true
   },
   "outputs": [],
   "source": [
    "train_transform = transforms.Compose([\n",
    "    transforms.RandomResizedCrop(224),\n",
    "    transforms.RandomHorizontalFlip(),\n",
    "    transforms.ColorJitter(brightness=0.2, contrast=0.2, saturation=0.2, hue=0.1),\n",
    "    transforms.ToTensor(),\n",
    "    transforms.Normalize(mean=[0.485, 0.456, 0.406], std=[0.229, 0.224, 0.225])\n",
    "])\n",
    "\n",
    "val_transform = transforms.Compose([\n",
    "    transforms.Resize((224, 224)),\n",
    "    transforms.ToTensor(),\n",
    "    transforms.Normalize(mean=[0.485, 0.456, 0.406], std=[0.229, 0.224, 0.225])\n",
    "])"
   ]
  },
  {
   "cell_type": "code",
   "execution_count": null,
   "metadata": {
    "execution": {
     "iopub.execute_input": "2024-12-01T03:52:38.173382Z",
     "iopub.status.busy": "2024-12-01T03:52:38.173096Z",
     "iopub.status.idle": "2024-12-01T03:52:44.268436Z",
     "shell.execute_reply": "2024-12-01T03:52:44.267702Z",
     "shell.execute_reply.started": "2024-12-01T03:52:38.173357Z"
    },
    "trusted": true
   },
   "outputs": [],
   "source": [
    "# Датасеты\n",
    "train_dataset = datasets.ImageFolder(root=f\"{data_path}/train\", transform=train_transform)\n",
    "val_dataset = datasets.ImageFolder(root=f\"{data_path}/valid\", transform=val_transform)\n",
    "\n",
    "# DataLoader для загрузки данных\n",
    "train_loader = DataLoader(train_dataset, batch_size=batch_size, shuffle=True)\n",
    "val_loader = DataLoader(val_dataset, batch_size=batch_size, shuffle=False)"
   ]
  },
  {
   "cell_type": "code",
   "execution_count": null,
   "metadata": {
    "execution": {
     "iopub.execute_input": "2024-12-01T03:52:44.270098Z",
     "iopub.status.busy": "2024-12-01T03:52:44.269839Z",
     "iopub.status.idle": "2024-12-01T03:52:45.701271Z",
     "shell.execute_reply": "2024-12-01T03:52:45.700286Z",
     "shell.execute_reply.started": "2024-12-01T03:52:44.270072Z"
    },
    "trusted": true
   },
   "outputs": [],
   "source": [
    "model = models.resnet50(pretrained=True)\n",
    "num_ftrs = model.fc.in_features\n",
    "model.fc = nn.Linear(num_ftrs, len(train_dataset.classes)) \n",
    "model = model.to(device)"
   ]
  },
  {
   "cell_type": "code",
   "execution_count": null,
   "metadata": {
    "execution": {
     "iopub.execute_input": "2024-12-01T03:52:45.702619Z",
     "iopub.status.busy": "2024-12-01T03:52:45.702362Z",
     "iopub.status.idle": "2024-12-01T03:52:45.706430Z",
     "shell.execute_reply": "2024-12-01T03:52:45.705590Z",
     "shell.execute_reply.started": "2024-12-01T03:52:45.702594Z"
    },
    "trusted": true
   },
   "outputs": [],
   "source": [
    "# for param in model.parameters():\n",
    "#     param.requires_grad = True\n",
    "\n",
    "# for param in model.fc.parameters():\n",
    "#     param.requires_grad = True"
   ]
  },
  {
   "cell_type": "code",
   "execution_count": null,
   "metadata": {
    "execution": {
     "iopub.execute_input": "2024-12-01T03:52:45.708013Z",
     "iopub.status.busy": "2024-12-01T03:52:45.707659Z",
     "iopub.status.idle": "2024-12-01T03:52:45.719985Z",
     "shell.execute_reply": "2024-12-01T03:52:45.719253Z",
     "shell.execute_reply.started": "2024-12-01T03:52:45.707976Z"
    },
    "trusted": true
   },
   "outputs": [],
   "source": [
    "criterion = nn.CrossEntropyLoss()\n",
    "optimizer = optim.Adam(model.fc.parameters(), lr=learning_rate)\n",
    "\n",
    "def train_one_epoch(model, dataloader, optimizer, criterion):\n",
    "    model.train()\n",
    "    running_loss = 0.0\n",
    "    correct = 0\n",
    "    total = 0\n",
    "    \n",
    "    for images, labels in dataloader:\n",
    "        images, labels = images.to(device), labels.to(device)\n",
    "        \n",
    "        optimizer.zero_grad()\n",
    "        outputs = model(images)\n",
    "        loss = criterion(outputs, labels)\n",
    "        loss.backward()\n",
    "        optimizer.step()\n",
    "        \n",
    "        running_loss += loss.item() * images.size(0)\n",
    "        _, preds = torch.max(outputs, 1)\n",
    "        correct += (preds == labels).sum().item()\n",
    "        total += labels.size(0)\n",
    "    \n",
    "    epoch_loss = running_loss / total\n",
    "    epoch_acc = correct / total\n",
    "    return epoch_loss, epoch_acc"
   ]
  },
  {
   "cell_type": "code",
   "execution_count": null,
   "metadata": {
    "execution": {
     "iopub.execute_input": "2024-12-01T03:52:45.721633Z",
     "iopub.status.busy": "2024-12-01T03:52:45.721389Z",
     "iopub.status.idle": "2024-12-01T03:52:45.736363Z",
     "shell.execute_reply": "2024-12-01T03:52:45.735716Z",
     "shell.execute_reply.started": "2024-12-01T03:52:45.721609Z"
    },
    "trusted": true
   },
   "outputs": [],
   "source": [
    "def validate(model, dataloader, criterion):\n",
    "    model.eval()\n",
    "    running_loss = 0.0\n",
    "    correct = 0\n",
    "    total = 0\n",
    "    \n",
    "    with torch.no_grad():\n",
    "        for images, labels in dataloader:\n",
    "            images, labels = images.to(device), labels.to(device)\n",
    "            \n",
    "            outputs = model(images)\n",
    "            loss = criterion(outputs, labels)\n",
    "            \n",
    "            running_loss += loss.item() * images.size(0)\n",
    "            _, preds = torch.max(outputs, 1)\n",
    "            correct += (preds == labels).sum().item()\n",
    "            total += labels.size(0)\n",
    "    \n",
    "    epoch_loss = running_loss / total\n",
    "    epoch_acc = correct / total\n",
    "    return epoch_loss, epoch_acc"
   ]
  },
  {
   "cell_type": "code",
   "execution_count": null,
   "metadata": {
    "execution": {
     "iopub.execute_input": "2024-12-01T03:52:45.773001Z",
     "iopub.status.busy": "2024-12-01T03:52:45.772658Z"
    },
    "trusted": true
   },
   "outputs": [],
   "source": [
    "for epoch in range(num_epochs):\n",
    "    train_loss, train_acc = train_one_epoch(model, train_loader, optimizer, criterion)\n",
    "    \n",
    "    print(f\"Epoch {epoch+1}/{num_epochs} | \"\n",
    "          f\"Train Loss: {train_loss:.4f}, Train Acc: {train_acc:.4f} | \")\n",
    "\n",
    "    if epoch % 5 == 0:\n",
    "        torch.save(model.state_dict(), \"resnet50\"+str(epoch)+\".pth\")"
   ]
  },
  {
   "cell_type": "code",
   "execution_count": null,
   "metadata": {
    "execution": {
     "iopub.execute_input": "2024-12-01T02:07:20.032983Z",
     "iopub.status.busy": "2024-12-01T02:07:20.032280Z",
     "iopub.status.idle": "2024-12-01T02:35:25.981053Z",
     "shell.execute_reply": "2024-12-01T02:35:25.980114Z",
     "shell.execute_reply.started": "2024-12-01T02:07:20.032942Z"
    },
    "trusted": true
   },
   "outputs": [],
   "source": [
    "for epoch in range(num_epochs):\n",
    "    val_loss, val_acc = validate(model, val_loader, criterion)\n",
    "    \n",
    "    print(f\"Epoch {epoch+1}/{num_epochs} | \"\n",
    "          f\"Val Loss: {val_loss:.4f}, Val Acc: {val_acc:.4f}\")"
   ]
  },
  {
   "cell_type": "code",
   "execution_count": null,
   "metadata": {
    "execution": {
     "iopub.execute_input": "2024-11-30T23:25:07.167055Z",
     "iopub.status.busy": "2024-11-30T23:25:07.166781Z",
     "iopub.status.idle": "2024-11-30T23:25:07.420652Z",
     "shell.execute_reply": "2024-11-30T23:25:07.419912Z",
     "shell.execute_reply.started": "2024-11-30T23:25:07.167029Z"
    },
    "trusted": true
   },
   "outputs": [],
   "source": [
    "# Сохранение модели\n",
    "torch.save(model.state_dict(), \"model_weights.pth\")"
   ]
  }
 ],
 "metadata": {
  "kaggle": {
   "accelerator": "nvidiaTeslaT4",
   "dataSources": [
    {
     "datasetId": 3413387,
     "sourceId": 5949504,
     "sourceType": "datasetVersion"
    }
   ],
   "dockerImageVersionId": 30787,
   "isGpuEnabled": true,
   "isInternetEnabled": true,
   "language": "python",
   "sourceType": "notebook"
  },
  "kernelspec": {
   "display_name": "main",
   "language": "python",
   "name": "python3"
  },
  "language_info": {
   "codemirror_mode": {
    "name": "ipython",
    "version": 3
   },
   "file_extension": ".py",
   "mimetype": "text/x-python",
   "name": "python",
   "nbconvert_exporter": "python",
   "pygments_lexer": "ipython3",
   "version": "3.12.7"
  }
 },
 "nbformat": 4,
 "nbformat_minor": 4
}
