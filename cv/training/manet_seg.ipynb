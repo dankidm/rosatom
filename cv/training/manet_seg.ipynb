{
 "cells": [
  {
   "cell_type": "markdown",
   "metadata": {},
   "source": [
    "## Intializing Libraries"
   ]
  },
  {
   "cell_type": "code",
   "execution_count": null,
   "metadata": {
    "execution": {
     "iopub.execute_input": "2024-11-30T17:20:12.855918Z",
     "iopub.status.busy": "2024-11-30T17:20:12.855577Z",
     "iopub.status.idle": "2024-11-30T17:20:20.959868Z",
     "shell.execute_reply": "2024-11-30T17:20:20.959072Z",
     "shell.execute_reply.started": "2024-11-30T17:20:12.855889Z"
    },
    "trusted": true
   },
   "outputs": [],
   "source": [
    "import zipfile\n",
    "import random\n",
    "import os\n",
    "import json\n",
    "import numpy as np\n",
    "import cv2\n",
    "from sklearn.metrics import f1_score, roc_auc_score\n",
    "import torchvision\n",
    "import torch\n",
    "from torchvision.io import read_image\n",
    "import matplotlib.pyplot as plt\n",
    "from PIL import Image,ImageColor\n",
    "from tqdm import tqdm\n",
    "from torch.utils.data import DataLoader,Dataset\n",
    "from torchvision.models.segmentation.deeplabv3 import DeepLabHead,deeplabv3_mobilenet_v3_large\n",
    "from torchvision.io import read_image\n",
    "from torchvision.ops.boxes import masks_to_boxes\n",
    "from torchvision import tv_tensors\n",
    "from torchvision.transforms.v2 import functional as F\n",
    "from skimage.draw import polygon\n",
    "from torchvision import transforms\n",
    "from torch import nn\n",
    "from segmentation_models_pytorch import MAnet\n",
    "from segmentation_models_pytorch.losses import DiceLoss,JaccardLoss\n",
    "from segmentation_models_pytorch.metrics import get_stats,iou_score,f1_score"
   ]
  },
  {
   "cell_type": "code",
   "execution_count": null,
   "metadata": {
    "execution": {
     "iopub.execute_input": "2024-11-30T17:20:33.815085Z",
     "iopub.status.busy": "2024-11-30T17:20:33.814739Z",
     "iopub.status.idle": "2024-11-30T17:20:33.819278Z",
     "shell.execute_reply": "2024-11-30T17:20:33.818282Z",
     "shell.execute_reply.started": "2024-11-30T17:20:33.815063Z"
    },
    "trusted": true
   },
   "outputs": [],
   "source": [
    "# Declaring folder paths for images and masks\n",
    "carparts_imgs = \"/kaggle/input/car-parts-and-car-damages/Car damages dataset/File1/img/\"\n",
    "carparts_anns = \"/kaggle/input/car-parts-and-car-damages/Car damages dataset/File1/ann/\"\n",
    "sizes=(320,320)"
   ]
  },
  {
   "cell_type": "markdown",
   "metadata": {},
   "source": [
    "## Methods and Classes Initializations"
   ]
  },
  {
   "cell_type": "code",
   "execution_count": null,
   "metadata": {
    "execution": {
     "iopub.execute_input": "2024-11-30T17:20:34.950678Z",
     "iopub.status.busy": "2024-11-30T17:20:34.950317Z",
     "iopub.status.idle": "2024-11-30T17:20:34.956592Z",
     "shell.execute_reply": "2024-11-30T17:20:34.955587Z",
     "shell.execute_reply.started": "2024-11-30T17:20:34.950650Z"
    },
    "trusted": true
   },
   "outputs": [],
   "source": [
    "# Retrieving Classes and Ids from Meta Data\n",
    "def retrieve_meta_data(path=\"/kaggle/input/car-parts-and-car-damages/Car damages dataset/meta.json\"):\n",
    "    \n",
    "    MetaJson = json.load(open(path,\"r\"))\n",
    "    classes_carprts = []\n",
    "    associated_colors_carprts = []\n",
    "    for cls in MetaJson[\"classes\"]:\n",
    "        classes_carprts.append(cls[\"title\"])\n",
    "        associated_colors_carprts.append(cls['id'])\n",
    "    return classes_carprts,associated_colors_carprts"
   ]
  },
  {
   "cell_type": "code",
   "execution_count": null,
   "metadata": {
    "execution": {
     "iopub.execute_input": "2024-11-30T17:20:35.937438Z",
     "iopub.status.busy": "2024-11-30T17:20:35.937117Z",
     "iopub.status.idle": "2024-11-30T17:20:35.948733Z",
     "shell.execute_reply": "2024-11-30T17:20:35.947611Z",
     "shell.execute_reply.started": "2024-11-30T17:20:35.937414Z"
    },
    "trusted": true
   },
   "outputs": [],
   "source": [
    "# Dataset Class for Loading Car Parts and Car Damages Datasets\n",
    "class CarDataLoader(Dataset):\n",
    "    def __init__(self,transforms,imgs_path,annotations_path,classes,sizes):\n",
    "        \"\"\"\n",
    "        Initialize Dataset class with Car Parts or Car Damages Datasets\n",
    "        transforms -> Transformations\n",
    "        imgs_path -> Path for Images\n",
    "        annotaions_path -> Path for Annotations\n",
    "        classes - > List of Classes\n",
    "        sizes -> Tuple of Height and Width\n",
    "        \n",
    "        \"\"\"\n",
    "        self.imgs_path =imgs_path\n",
    "        self.annotations_path = annotations_path\n",
    "        self.classes = classes\n",
    "        self.images = list(sorted(os.listdir(imgs_path)))\n",
    "        self.annotations = [x+\".json\" for x in self.images]\n",
    "        self.transforms = transforms\n",
    "        self.sizes = sizes\n",
    "    \n",
    "    def getMask(sizes,annfile,classes):\n",
    "        \"\"\"\n",
    "        Get Masks After Processing and Stacking multiple label channels\n",
    "        sizes -> Tuples of Height and Width\n",
    "        annfile -> Annotations file of image\n",
    "        classes -> List of Class ids\n",
    "        \"\"\"\n",
    "        img_height,img_width = annfile[\"size\"][\"height\"],annfile[\"size\"][\"width\"]\n",
    "        mask = torch.zeros((img_height,img_width),dtype=torch.long)\n",
    "        mask_numpy = mask.numpy()\n",
    "        class_ids =[]\n",
    "        for object_ in annfile[\"objects\"]:\n",
    "            class_id = classes.index(object_[\"classId\"])\n",
    "            class_ids.append(class_id)\n",
    "            polygon_ = []\n",
    "            for i in object_[\"points\"][\"exterior\"]:\n",
    "                polygon_.append(i)\n",
    "            polygon_ = np.asarray(polygon_)\n",
    "            x_,y_ = polygon(polygon_[:,0],polygon_[:,1],(annfile[\"size\"][\"width\"],annfile[\"size\"][\"height\"])) \n",
    "            mask_numpy[y_,x_] = class_id+1\n",
    "\n",
    "        mask_tensor = transforms.Resize(sizes)(torch.from_numpy(mask_numpy).unsqueeze(0)).squeeze(1)\n",
    "        mask_numpy = mask_tensor.numpy()\n",
    "        masks = [(mask_numpy  == class_id) for class_id in range(len(classes)+1)]\n",
    "        masks_numpy = np.stack(masks,axis=-1).astype('int')\n",
    "        return masks_numpy\n",
    "                \n",
    "\n",
    "    def __getitem__(self,idx):\n",
    "        \"\"\"\n",
    "        Iterate through the Dataset \n",
    "        \n",
    "        idx -> Index of the Data\n",
    "        \"\"\"\n",
    "        img_path = os.path.join(self.imgs_path, self.images[idx])\n",
    "        ann_path = os.path.join(self.annotations_path, self.annotations[idx])\n",
    "        img = Image.open(img_path)\n",
    "        ann = json.load(open(ann_path,\"r\"))\n",
    "\n",
    "        annotated_mask = CarDataLoader.getMask(self.sizes,ann,self.classes)\n",
    "        img_tensor = self.transforms(img)[:3,:,:]\n",
    "        mask_tensor = torch.from_numpy(annotated_mask).permute(0,-1,1,2)\n",
    "\n",
    "        return img_tensor,mask_tensor\n",
    "    def __len__(self):\n",
    "        \"\"\"\n",
    "        Invoked on len() method returns length\n",
    "        \"\"\"\n",
    "        return len(self.images)"
   ]
  },
  {
   "cell_type": "code",
   "execution_count": null,
   "metadata": {
    "execution": {
     "iopub.execute_input": "2024-11-30T17:20:36.416042Z",
     "iopub.status.busy": "2024-11-30T17:20:36.415245Z",
     "iopub.status.idle": "2024-11-30T17:20:36.426547Z",
     "shell.execute_reply": "2024-11-30T17:20:36.425579Z",
     "shell.execute_reply.started": "2024-11-30T17:20:36.416010Z"
    },
    "trusted": true
   },
   "outputs": [],
   "source": [
    "def TrainandValidate(model,optim,criterion,dataloader,learning_rate,epochs,checkpointName,classes,checkpoint=True):\n",
    "    \"\"\"\n",
    "    For training and Validating Segmentation models\n",
    "    model [nn.Module]  ->   Model to Train\n",
    "    optim     ->     Optimizer\n",
    "    criterion -> Loss Function\n",
    "    dataloader -> Batch loader object for Dataset\n",
    "    learning_rate -> Learning rate parameter for model training\n",
    "    epochs -> Number of epochs or Iterations\n",
    "    Checkpoint Name -> Save Model Checkpoints at an Interval with Name\n",
    "    Classes -> List of Class Ids\n",
    "    \"\"\"\n",
    "    for epoch in range(epochs):\n",
    "        # Initiate TQDM for Progress\n",
    "        loop = tqdm(enumerate(dataloader), total=len(dataloader))  # Progress bar\n",
    "        # for Every Image and Mask as data and targets over Batch ID\n",
    "        for batch_idx, (data, targets) in loop:\n",
    "            # Training Mode\n",
    "            if batch_idx +5 < len(dataloader):\n",
    "                model.train()\n",
    "                # Squeeze or Remove batch size generated by stacking and Tensor COnversion\n",
    "                targets = targets.squeeze(1)\n",
    "                # Add Data and Targets to CUDA\n",
    "                data, targets = data.to(device), targets.to(device)\n",
    "\n",
    "                # Forward pass Data to the Model\n",
    "                outputs = model(data)\n",
    "                \n",
    "                # Confusion Matrix Data for Intersection Over Union Calculation\n",
    "                # Get Stats method from Segmentation Models returns tp,tn,fp,fn values for calculations over Multi Label (Multi CHannel Masks)\n",
    "                # Threshold of 0.5 acts as activation.\n",
    "                tp, fp, fn, tn = get_stats(outputs.int(), targets.int(), mode=\"multilabel\",threshold=0.5)\n",
    "                \n",
    "                # IOU = TP / (TP+FP+FN) then Average over all channels\n",
    "                iouscore = iou_score(tp, fp, fn, tn, reduction=\"micro\")\n",
    "\n",
    "                # Loss Calculation through Dice Loss or Jacard Loss\n",
    "                loss = criterion(outputs, targets)\n",
    "                \n",
    "                # Zero Gradients so they dont accumulate over Iterations\n",
    "                optimizer.zero_grad()\n",
    "                # Back Propagating Loss for Model Corrections\n",
    "                loss.backward()\n",
    "                # Stepping the Optimizer to Optimize the Model Parameters\n",
    "                optimizer.step()\n",
    "                # Set Descriptions \n",
    "                loop.set_description(f'Epoch {epoch+1}/{epochs}')\n",
    "                loop.set_postfix(loss=loss.item(),iou_score = iouscore.item())\n",
    "\n",
    "            else:\n",
    "                model.eval()\n",
    "                targets = targets.squeeze(1)\n",
    "                data, targets = data.to(device), targets.to(device)\n",
    "\n",
    "                # Forward Pass\n",
    "                outputs = model(data)\n",
    "                tp, fp, fn, tn = get_stats(outputs.int(), targets.int(), mode='multilabel',threshold=0.5)\n",
    "                iouscore = iou_score(tp, fp, fn, tn, reduction=\"micro\")\n",
    "\n",
    "                # Loss Calculation\n",
    "                loss = criterion(outputs, targets.long())  # Ensure targets are long type\n",
    "                \n",
    "                print(f\" Epoch under Validation {batch_idx}, Loss: {loss.item()}, IOUScore {iouscore.item()}\")\n",
    "                #loop.set_description(f'Epoch {epoch+1}/{epochs}')\n",
    "                #loop.set_postfix(loss=loss.item(),iou_score = iouscore.item())\n",
    "        if epoch%5 == 0:\n",
    "            # Save Checkpoint\n",
    "            torch.save({\n",
    "                    'epoch': epoch + 1,\n",
    "                    'model_state_dict': model.state_dict(),\n",
    "                    'optimizer_state_dict': optimizer.state_dict(),\n",
    "                    'loss': loss,\n",
    "                'iou_score': iou_score\n",
    "                    }, f\"checkpoint_{checkpointName}{epoch+1}.pth\")"
   ]
  },
  {
   "cell_type": "code",
   "execution_count": null,
   "metadata": {
    "execution": {
     "iopub.execute_input": "2024-11-30T17:20:36.855929Z",
     "iopub.status.busy": "2024-11-30T17:20:36.855370Z",
     "iopub.status.idle": "2024-11-30T17:20:36.860611Z",
     "shell.execute_reply": "2024-11-30T17:20:36.859802Z",
     "shell.execute_reply.started": "2024-11-30T17:20:36.855901Z"
    },
    "trusted": true
   },
   "outputs": [],
   "source": [
    "def visualizeImageandMasks(image,output,target):\n",
    "\n",
    "    col = 3\n",
    "    row = 1\n",
    "    fig, ax = plt.subplots(row,col)\n",
    "    ax[0].imshow(image)\n",
    "    ax[0].set_title(\"Image\")\n",
    "    ax[1].imshow(output)\n",
    "    ax[1].set_title(\"Output\")\n",
    "    ax[2].imshow(target)\n",
    "    ax[2].set_title(\"Target\")\n",
    "    plt.show()"
   ]
  },
  {
   "cell_type": "markdown",
   "metadata": {},
   "source": [
    "## Car Parts Segmentation "
   ]
  },
  {
   "cell_type": "code",
   "execution_count": null,
   "metadata": {
    "execution": {
     "iopub.execute_input": "2024-11-30T17:20:37.756594Z",
     "iopub.status.busy": "2024-11-30T17:20:37.755800Z",
     "iopub.status.idle": "2024-11-30T17:20:37.766827Z",
     "shell.execute_reply": "2024-11-30T17:20:37.766028Z",
     "shell.execute_reply.started": "2024-11-30T17:20:37.756569Z"
    },
    "trusted": true
   },
   "outputs": [],
   "source": [
    "CarPartsClasses,CarPartsClasses_ID = retrieve_meta_data(\"/kaggle/input/car-parts-and-car-damages/Car damages dataset/meta.json\")"
   ]
  },
  {
   "cell_type": "code",
   "execution_count": null,
   "metadata": {
    "execution": {
     "iopub.execute_input": "2024-11-30T17:20:38.163708Z",
     "iopub.status.busy": "2024-11-30T17:20:38.163138Z",
     "iopub.status.idle": "2024-11-30T17:20:38.167551Z",
     "shell.execute_reply": "2024-11-30T17:20:38.166802Z",
     "shell.execute_reply.started": "2024-11-30T17:20:38.163682Z"
    },
    "trusted": true
   },
   "outputs": [],
   "source": [
    "transform = transforms.Compose([transforms.Resize(sizes),\n",
    "    transforms.ToTensor()])\n"
   ]
  },
  {
   "cell_type": "code",
   "execution_count": null,
   "metadata": {
    "execution": {
     "iopub.execute_input": "2024-11-30T17:20:38.397933Z",
     "iopub.status.busy": "2024-11-30T17:20:38.397573Z",
     "iopub.status.idle": "2024-11-30T17:20:38.414177Z",
     "shell.execute_reply": "2024-11-30T17:20:38.413458Z",
     "shell.execute_reply.started": "2024-11-30T17:20:38.397906Z"
    },
    "trusted": true
   },
   "outputs": [],
   "source": [
    "CarPartsData =  CarDataLoader(transform,carparts_imgs,carparts_anns,CarPartsClasses_ID,sizes)"
   ]
  },
  {
   "cell_type": "code",
   "execution_count": null,
   "metadata": {
    "execution": {
     "iopub.execute_input": "2024-11-30T17:20:38.670298Z",
     "iopub.status.busy": "2024-11-30T17:20:38.669637Z",
     "iopub.status.idle": "2024-11-30T17:20:38.807570Z",
     "shell.execute_reply": "2024-11-30T17:20:38.806712Z",
     "shell.execute_reply.started": "2024-11-30T17:20:38.670266Z"
    },
    "trusted": true
   },
   "outputs": [],
   "source": [
    "image,mask = CarPartsData[0]"
   ]
  },
  {
   "cell_type": "code",
   "execution_count": null,
   "metadata": {
    "execution": {
     "iopub.execute_input": "2024-11-30T17:20:39.094181Z",
     "iopub.status.busy": "2024-11-30T17:20:39.093418Z",
     "iopub.status.idle": "2024-11-30T17:20:39.616260Z",
     "shell.execute_reply": "2024-11-30T17:20:39.615385Z",
     "shell.execute_reply.started": "2024-11-30T17:20:39.094148Z"
    },
    "trusted": true
   },
   "outputs": [],
   "source": [
    "plt.imshow(image.permute(1,2,0));"
   ]
  },
  {
   "cell_type": "code",
   "execution_count": null,
   "metadata": {
    "execution": {
     "iopub.execute_input": "2024-11-30T17:20:39.618506Z",
     "iopub.status.busy": "2024-11-30T17:20:39.617807Z",
     "iopub.status.idle": "2024-11-30T17:20:39.624147Z",
     "shell.execute_reply": "2024-11-30T17:20:39.623307Z",
     "shell.execute_reply.started": "2024-11-30T17:20:39.618474Z"
    },
    "trusted": true
   },
   "outputs": [],
   "source": [
    "mask.shape"
   ]
  },
  {
   "cell_type": "code",
   "execution_count": null,
   "metadata": {
    "execution": {
     "iopub.execute_input": "2024-11-30T17:20:39.977831Z",
     "iopub.status.busy": "2024-11-30T17:20:39.977051Z",
     "iopub.status.idle": "2024-11-30T17:20:40.239758Z",
     "shell.execute_reply": "2024-11-30T17:20:40.238926Z",
     "shell.execute_reply.started": "2024-11-30T17:20:39.977803Z"
    },
    "trusted": true
   },
   "outputs": [],
   "source": [
    "plt.imshow(mask.squeeze(0).argmax(dim=0))"
   ]
  },
  {
   "cell_type": "code",
   "execution_count": null,
   "metadata": {
    "execution": {
     "iopub.execute_input": "2024-11-30T17:20:40.828331Z",
     "iopub.status.busy": "2024-11-30T17:20:40.827466Z",
     "iopub.status.idle": "2024-11-30T17:20:40.865081Z",
     "shell.execute_reply": "2024-11-30T17:20:40.864177Z",
     "shell.execute_reply.started": "2024-11-30T17:20:40.828300Z"
    },
    "trusted": true
   },
   "outputs": [],
   "source": [
    "mask.min(),mask.max()"
   ]
  },
  {
   "cell_type": "code",
   "execution_count": null,
   "metadata": {
    "execution": {
     "iopub.execute_input": "2024-11-30T17:20:41.277630Z",
     "iopub.status.busy": "2024-11-30T17:20:41.277308Z",
     "iopub.status.idle": "2024-11-30T17:20:41.282843Z",
     "shell.execute_reply": "2024-11-30T17:20:41.282049Z",
     "shell.execute_reply.started": "2024-11-30T17:20:41.277607Z"
    },
    "trusted": true
   },
   "outputs": [],
   "source": [
    "len(CarPartsClasses_ID)+1"
   ]
  },
  {
   "cell_type": "code",
   "execution_count": null,
   "metadata": {
    "execution": {
     "iopub.execute_input": "2024-11-30T17:20:41.966526Z",
     "iopub.status.busy": "2024-11-30T17:20:41.965873Z",
     "iopub.status.idle": "2024-11-30T17:20:41.970646Z",
     "shell.execute_reply": "2024-11-30T17:20:41.969736Z",
     "shell.execute_reply.started": "2024-11-30T17:20:41.966499Z"
    },
    "trusted": true
   },
   "outputs": [],
   "source": [
    "dataloader = DataLoader(CarPartsData,batch_size=20,shuffle=True)"
   ]
  },
  {
   "cell_type": "code",
   "execution_count": null,
   "metadata": {
    "execution": {
     "iopub.execute_input": "2024-11-30T17:20:42.220848Z",
     "iopub.status.busy": "2024-11-30T17:20:42.220526Z",
     "iopub.status.idle": "2024-11-30T17:20:42.268670Z",
     "shell.execute_reply": "2024-11-30T17:20:42.267677Z",
     "shell.execute_reply.started": "2024-11-30T17:20:42.220823Z"
    },
    "trusted": true
   },
   "outputs": [],
   "source": [
    "device = \"cuda\" if torch.cuda.is_available() else 'cpu'"
   ]
  },
  {
   "cell_type": "code",
   "execution_count": null,
   "metadata": {
    "execution": {
     "iopub.execute_input": "2024-11-30T17:20:43.468340Z",
     "iopub.status.busy": "2024-11-30T17:20:43.467796Z",
     "iopub.status.idle": "2024-11-30T17:20:43.473481Z",
     "shell.execute_reply": "2024-11-30T17:20:43.472615Z",
     "shell.execute_reply.started": "2024-11-30T17:20:43.468314Z"
    },
    "trusted": true
   },
   "outputs": [],
   "source": [
    "device"
   ]
  },
  {
   "cell_type": "markdown",
   "metadata": {},
   "source": [
    "## Dice Loss\n",
    "\n",
    "Dice loss, also known as the Sørensen-Dice coefficient or Dice's coefficient, is a statistical tool that measures the similarity between two datasets. It is defined as the ratio of the size of the intersection to the size of the union of two datasets: 2TP / (2TP + FP + FN) where TP is the number of true positives, FP is the number of false positives, and FN is the number of false negatives. Dice loss is a measure of dissimilarity between two datasets, and it ranges from 0 (denoting total dissimilarity) to 1 (denoting perfect similarity).\n"
   ]
  },
  {
   "cell_type": "code",
   "execution_count": null,
   "metadata": {
    "execution": {
     "iopub.execute_input": "2024-11-30T17:20:44.512841Z",
     "iopub.status.busy": "2024-11-30T17:20:44.512193Z",
     "iopub.status.idle": "2024-11-30T19:36:28.978987Z",
     "shell.execute_reply": "2024-11-30T19:36:28.978132Z",
     "shell.execute_reply.started": "2024-11-30T17:20:44.512813Z"
    },
    "trusted": true
   },
   "outputs": [],
   "source": [
    "learning_rate = 0.0001\n",
    "epochs = 50\n",
    "\n",
    "\n",
    "# Model, Loss, and Optimizer\n",
    "model = MAnet(classes = len(CarPartsClasses_ID)+1,encoder_weights=\"imagenet\")\n",
    "model.to(device)\n",
    "criterion = DiceLoss(classes = len(CarPartsClasses_ID)+1,mode=\"multilabel\")\n",
    "\n",
    "optimizer = torch.optim.Adam(model.parameters(), lr=learning_rate)\n",
    "\n",
    "TrainandValidate(model,optimizer,criterion,dataloader,learning_rate,epochs,\"MAnet\",classes = len(CarPartsClasses_ID)+1)"
   ]
  },
  {
   "cell_type": "code",
   "execution_count": null,
   "metadata": {
    "trusted": true
   },
   "outputs": [],
   "source": [
    "for filename in os.listdir(\"/kaggle/working/\"):\n",
    "    if filename.startswith(\"checkpoint\"):\n",
    "        os.remove(os.path.join(\"/kaggle/working/\", filename))\n",
    "        print(filename)"
   ]
  },
  {
   "cell_type": "code",
   "execution_count": null,
   "metadata": {
    "execution": {
     "iopub.execute_input": "2024-11-30T19:36:32.731901Z",
     "iopub.status.busy": "2024-11-30T19:36:32.730993Z",
     "iopub.status.idle": "2024-11-30T19:36:32.925007Z",
     "shell.execute_reply": "2024-11-30T19:36:32.924115Z",
     "shell.execute_reply.started": "2024-11-30T19:36:32.731859Z"
    },
    "trusted": true
   },
   "outputs": [],
   "source": [
    "torch.save(model.state_dict(), \"model_weights.pth\")"
   ]
  },
  {
   "cell_type": "code",
   "execution_count": null,
   "metadata": {
    "execution": {
     "iopub.execute_input": "2024-11-30T17:09:53.493369Z",
     "iopub.status.busy": "2024-11-30T17:09:53.492594Z"
    },
    "trusted": true
   },
   "outputs": [],
   "source": [
    "learning_rate = 0.0001\n",
    "epochs = 75\n",
    "\n",
    "\n",
    "# Model, Loss, and Optimizer\n",
    "model = MAnet(classes = len(CarPartsClasses_ID)+1)\n",
    "model.to(device)\n",
    "\n",
    "# Путь к файлу с весами\n",
    "weights_path = \"/kaggle/working/checkpoint_MAnet11.pth\"\n",
    "\n",
    "# Загрузка весов\n",
    "try:\n",
    "    checkpoint = torch.load(weights_path, map_location=torch.device(\"cuda\"))\n",
    "    \n",
    "    # Если файл содержит дополнительные ключи, такие как \"model_state_dict\"\n",
    "    if \"model_state_dict\" in checkpoint:\n",
    "        state_dict = checkpoint[\"model_state_dict\"]  # Извлекаем только параметры модели\n",
    "    else:\n",
    "        state_dict = checkpoint  # Если файл содержит только state_dict\n",
    "\n",
    "    # Загрузка весов в модель\n",
    "    model.load_state_dict(state_dict)\n",
    "    print(\"Weights loaded successfully.\")\n",
    "except FileNotFoundError:\n",
    "    print(f\"Error: Weights file not found at {weights_path}.\")\n",
    "    exit()\n",
    "except Exception as e:\n",
    "    print(f\"Error loading weights: {e}\")\n",
    "    exit()\n",
    "\n",
    "TrainandValidate(model,optimizer,criterion,dataloader,learning_rate,epochs,\"MAnet\",classes = len(CarPartsClasses_ID)+1)"
   ]
  },
  {
   "cell_type": "code",
   "execution_count": null,
   "metadata": {
    "trusted": true
   },
   "outputs": [],
   "source": [
    "torch.save(model.state_dict(), \"model_weightsv2.pth\")"
   ]
  },
  {
   "cell_type": "code",
   "execution_count": null,
   "metadata": {
    "execution": {
     "iopub.execute_input": "2024-11-30T19:46:30.608779Z",
     "iopub.status.busy": "2024-11-30T19:46:30.608447Z",
     "iopub.status.idle": "2024-11-30T19:46:39.451081Z",
     "shell.execute_reply": "2024-11-30T19:46:39.450194Z",
     "shell.execute_reply.started": "2024-11-30T19:46:30.608738Z"
    },
    "trusted": true
   },
   "outputs": [],
   "source": [
    "for i in range(10):\n",
    "    x = random.randrange(1,len(CarPartsData))\n",
    "    output1 = model(CarPartsData[x][0].unsqueeze(0).to('cuda'))\n",
    "    image_viz = CarPartsData[x][0].cpu()\n",
    "    output1 = output1.squeeze(0).detach().cpu()\n",
    "    target = CarPartsData[x][1].squeeze(0).argmax(dim=0)\n",
    "    full_mask = output1.argmax(dim=0)\n",
    "    visualizeImageandMasks(image_viz.permute(1,2,0),full_mask,target)\n",
    "    plt.show()\n"
   ]
  },
  {
   "cell_type": "markdown",
   "metadata": {},
   "source": [
    "## Car Damage Detection"
   ]
  },
  {
   "cell_type": "code",
   "execution_count": null,
   "metadata": {
    "trusted": true
   },
   "outputs": [],
   "source": [
    "cardamages_imgs = \"/kaggle/input/car-parts-and-car-damages/Car parts dataset/File1/img/\"\n",
    "cardamages_anns = \"/kaggle/input/car-parts-and-car-damages/Car parts dataset/File1/ann/\"\n",
    "sizes=(320,320)"
   ]
  },
  {
   "cell_type": "code",
   "execution_count": null,
   "metadata": {
    "trusted": true
   },
   "outputs": [],
   "source": [
    "CarDamagesClasses,CarDamagesClasses_ID = retrieve_meta_data(\"/kaggle/input/car-parts-and-car-damages/Car parts dataset/meta.json\")"
   ]
  },
  {
   "cell_type": "code",
   "execution_count": null,
   "metadata": {
    "trusted": true
   },
   "outputs": [],
   "source": [
    "CarDamagesData =  CarDataLoader(transform,cardamages_imgs,cardamages_anns,CarDamagesClasses_ID,sizes)"
   ]
  },
  {
   "cell_type": "code",
   "execution_count": null,
   "metadata": {
    "trusted": true
   },
   "outputs": [],
   "source": [
    "image,mask = CarDamagesData[0]"
   ]
  },
  {
   "cell_type": "code",
   "execution_count": null,
   "metadata": {
    "trusted": true
   },
   "outputs": [],
   "source": [
    "plt.imshow(image.squeeze(0).permute(1,2,0))"
   ]
  },
  {
   "cell_type": "code",
   "execution_count": null,
   "metadata": {
    "trusted": true
   },
   "outputs": [],
   "source": [
    "plt.imshow(mask.squeeze(0).argmax(dim=0))"
   ]
  },
  {
   "cell_type": "code",
   "execution_count": null,
   "metadata": {
    "trusted": true
   },
   "outputs": [],
   "source": [
    "print(len(CarDamagesClasses_ID)+1)"
   ]
  },
  {
   "cell_type": "code",
   "execution_count": null,
   "metadata": {
    "trusted": true
   },
   "outputs": [],
   "source": [
    "damagedataloader = DataLoader(CarDamagesData,batch_size=20,shuffle=True)"
   ]
  },
  {
   "cell_type": "code",
   "execution_count": null,
   "metadata": {
    "trusted": true
   },
   "outputs": [],
   "source": [
    "learning_rate = 0.0001\n",
    "epochs = 30\n",
    "\n",
    "# Model, Loss, and Optimizer\n",
    "model_damages = MAnet(classes = len(CarDamagesClasses_ID)+1,encoder_weights=\"imagenet\")\n",
    "model_damages.to(device)\n",
    "criterion_damages = JaccardLoss(classes = len(CarDamagesClasses_ID)+1,mode=\"multilabel\")\n",
    "\n",
    "optimizer_damages = torch.optim.Adam(model_damages.parameters(), lr=learning_rate)\n",
    "\n",
    "TrainandValidate(model_damages,optimizer_damages,criterion_damages,damagedataloader,learning_rate,epochs,\"MAnet_damages\",classes = len(CarDamagesClasses_ID)+1)\n"
   ]
  },
  {
   "cell_type": "code",
   "execution_count": null,
   "metadata": {
    "trusted": true
   },
   "outputs": [],
   "source": [
    "for i in range(10):\n",
    "    x = random.randrange(1,len(CarDamagesData))\n",
    "    output1 = model_damages(CarDamagesData[x][0].unsqueeze(0).to('cuda'))\n",
    "    image_viz = CarDamagesData[x][0].cpu()\n",
    "    output1 = output1.squeeze(0).detach().cpu()\n",
    "    target = CarDamagesData[x][1].squeeze(0).argmax(dim=0)\n",
    "    full_mask = output1.argmax(dim=0)\n",
    "    visualizeImageandMasks(image_viz.permute(1,2,0),full_mask,target)\n",
    "    plt.show()"
   ]
  },
  {
   "cell_type": "code",
   "execution_count": null,
   "metadata": {
    "trusted": true
   },
   "outputs": [],
   "source": [
    "torch.save({\n",
    "                'epoch': 30,\n",
    "                'model_state_dict': model.state_dict(),\n",
    "                'optimizer_state_dict': optimizer.state_dict(),\n",
    "                }, f\"MANet Damages Model.pth\")"
   ]
  },
  {
   "cell_type": "markdown",
   "metadata": {},
   "source": [
    "# Trial 2 \n",
    "\n",
    "With Dice Loss"
   ]
  },
  {
   "cell_type": "code",
   "execution_count": null,
   "metadata": {
    "trusted": true
   },
   "outputs": [],
   "source": []
  }
 ],
 "metadata": {
  "kaggle": {
   "accelerator": "nvidiaTeslaT4",
   "dataSources": [
    {
     "datasetId": 3381789,
     "sourceId": 5884733,
     "sourceType": "datasetVersion"
    }
   ],
   "dockerImageVersionId": 30665,
   "isGpuEnabled": true,
   "isInternetEnabled": true,
   "language": "python",
   "sourceType": "notebook"
  },
  "kernelspec": {
   "display_name": "main",
   "language": "python",
   "name": "python3"
  },
  "language_info": {
   "codemirror_mode": {
    "name": "ipython",
    "version": 3
   },
   "file_extension": ".py",
   "mimetype": "text/x-python",
   "name": "python",
   "nbconvert_exporter": "python",
   "pygments_lexer": "ipython3",
   "version": "3.12.7"
  }
 },
 "nbformat": 4,
 "nbformat_minor": 4
}
